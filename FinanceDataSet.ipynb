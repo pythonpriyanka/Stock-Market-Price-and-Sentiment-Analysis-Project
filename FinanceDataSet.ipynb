{
 "cells": [
  {
   "cell_type": "markdown",
   "id": "ec7e1e32",
   "metadata": {},
   "source": [
    "### This notebook contains code that focuses on stock market data . Here's a summary of the key operations:\n",
    "\n",
    "Imports Essential Libraries: It loads libraries such as pandas, numpy, matplotlib, and plotly for data manipulation, visualization, and analysis.\n",
    "\n",
    "Installs and Imports yfinance: The notebook installs the yfinance package, which allows fetching stock market data.\n",
    "\n",
    "Stock Symbol List: It defines a list of stock symbols—ONCO, CNEY, TNXP, APLD, and KTTA—for which the analysis is performed.\n",
    "\n",
    "Historical Data Retrieval: The notebook fetches historical stock data for the defined symbols using yfinance for the date range from 2022-01-01 to 2024-09-26.\n",
    "\n",
    "Data Concatenation: After retrieving the data for each symbol, it appends the data into a single DataFrame, showing fields such as Date, Symbol, Open, Close, High, Low, and Volume."
   ]
  },
  {
   "cell_type": "code",
   "execution_count": 2,
   "id": "7385558a",
   "metadata": {},
   "outputs": [],
   "source": [
    "import pandas as pd\n",
    "import numpy as np\n",
    "import matplotlib.pyplot as plt\n",
    "import plotly.graph_objects as go"
   ]
  },
  {
   "cell_type": "markdown",
   "id": "322ece7f",
   "metadata": {},
   "source": [
    "## Step 1: Install yfinance Library"
   ]
  },
  {
   "cell_type": "code",
   "execution_count": 2,
   "id": "a7626434",
   "metadata": {},
   "outputs": [
    {
     "name": "stdout",
     "output_type": "stream",
     "text": [
      "Requirement already satisfied: yfinance in c:\\users\\priyanka\\anaconda3\\lib\\site-packages (0.2.43)\n",
      "Requirement already satisfied: pandas>=1.3.0 in c:\\users\\priyanka\\anaconda3\\lib\\site-packages (from yfinance) (2.2.2)\n",
      "Requirement already satisfied: numpy>=1.16.5 in c:\\users\\priyanka\\anaconda3\\lib\\site-packages (from yfinance) (1.24.3)\n",
      "Requirement already satisfied: requests>=2.31 in c:\\users\\priyanka\\anaconda3\\lib\\site-packages (from yfinance) (2.31.0)\n",
      "Requirement already satisfied: multitasking>=0.0.7 in c:\\users\\priyanka\\anaconda3\\lib\\site-packages (from yfinance) (0.0.11)\n",
      "Requirement already satisfied: lxml>=4.9.1 in c:\\users\\priyanka\\anaconda3\\lib\\site-packages (from yfinance) (4.9.2)\n",
      "Requirement already satisfied: platformdirs>=2.0.0 in c:\\users\\priyanka\\anaconda3\\lib\\site-packages (from yfinance) (2.5.2)\n",
      "Requirement already satisfied: pytz>=2022.5 in c:\\users\\priyanka\\anaconda3\\lib\\site-packages (from yfinance) (2022.7)\n",
      "Requirement already satisfied: frozendict>=2.3.4 in c:\\users\\priyanka\\anaconda3\\lib\\site-packages (from yfinance) (2.4.4)\n",
      "Requirement already satisfied: peewee>=3.16.2 in c:\\users\\priyanka\\anaconda3\\lib\\site-packages (from yfinance) (3.17.6)\n",
      "Requirement already satisfied: beautifulsoup4>=4.11.1 in c:\\users\\priyanka\\anaconda3\\lib\\site-packages (from yfinance) (4.12.2)\n",
      "Requirement already satisfied: html5lib>=1.1 in c:\\users\\priyanka\\anaconda3\\lib\\site-packages (from yfinance) (1.1)\n",
      "Requirement already satisfied: soupsieve>1.2 in c:\\users\\priyanka\\anaconda3\\lib\\site-packages (from beautifulsoup4>=4.11.1->yfinance) (2.4)\n",
      "Requirement already satisfied: six>=1.9 in c:\\users\\priyanka\\anaconda3\\lib\\site-packages (from html5lib>=1.1->yfinance) (1.16.0)\n",
      "Requirement already satisfied: webencodings in c:\\users\\priyanka\\anaconda3\\lib\\site-packages (from html5lib>=1.1->yfinance) (0.5.1)\n",
      "Requirement already satisfied: python-dateutil>=2.8.2 in c:\\users\\priyanka\\anaconda3\\lib\\site-packages (from pandas>=1.3.0->yfinance) (2.8.2)\n",
      "Requirement already satisfied: tzdata>=2022.7 in c:\\users\\priyanka\\anaconda3\\lib\\site-packages (from pandas>=1.3.0->yfinance) (2024.1)\n",
      "Requirement already satisfied: charset-normalizer<4,>=2 in c:\\users\\priyanka\\anaconda3\\lib\\site-packages (from requests>=2.31->yfinance) (2.0.4)\n",
      "Requirement already satisfied: idna<4,>=2.5 in c:\\users\\priyanka\\anaconda3\\lib\\site-packages (from requests>=2.31->yfinance) (3.4)\n",
      "Requirement already satisfied: urllib3<3,>=1.21.1 in c:\\users\\priyanka\\anaconda3\\lib\\site-packages (from requests>=2.31->yfinance) (1.26.16)\n",
      "Requirement already satisfied: certifi>=2017.4.17 in c:\\users\\priyanka\\anaconda3\\lib\\site-packages (from requests>=2.31->yfinance) (2023.7.22)\n"
     ]
    }
   ],
   "source": [
    "!pip install yfinance"
   ]
  },
  {
   "cell_type": "markdown",
   "id": "e3bd45bd",
   "metadata": {},
   "source": [
    "### Step 2: Import and Download Stock Data\n",
    "After installing, import the library and use the yfinance.Ticker() function to retrieve historical stock data."
   ]
  },
  {
   "cell_type": "code",
   "execution_count": 3,
   "id": "235ab8f6",
   "metadata": {},
   "outputs": [],
   "source": [
    "import yfinance as yf"
   ]
  },
  {
   "cell_type": "code",
   "execution_count": 13,
   "id": "67979e99",
   "metadata": {},
   "outputs": [],
   "source": [
    "# List of stock symbols\n",
    "symbols = ['ONCO', 'CNEY', 'TNXP', 'APLD', 'KTTA']\n",
    "\n",
    "# Define the date range\n",
    "start_date = '2022-01-01'\n",
    "end_date = '2024-09-26'\n"
   ]
  },
  {
   "cell_type": "code",
   "execution_count": 14,
   "id": "efe17785",
   "metadata": {},
   "outputs": [
    {
     "name": "stdout",
     "output_type": "stream",
     "text": [
      "                          Date Symbol         Open        Close         High  \\\n",
      "0    2022-02-18 00:00:00-05:00   ONCO  2000.000000  2296.000000  2300.000000   \n",
      "1    2022-02-22 00:00:00-05:00   ONCO  2700.000000  2278.800049  3636.000000   \n",
      "2    2022-02-23 00:00:00-05:00   ONCO  1895.599976  1992.000000  2072.000000   \n",
      "3    2022-02-24 00:00:00-05:00   ONCO  1600.800049  1712.199951  1780.000000   \n",
      "4    2022-02-25 00:00:00-05:00   ONCO  1559.599976  1774.000000  1779.599976   \n",
      "...                        ...    ...          ...          ...          ...   \n",
      "3322 2024-09-19 00:00:00-04:00   KTTA     6.280000     4.800000     6.299000   \n",
      "3323 2024-09-20 00:00:00-04:00   KTTA     4.680000     4.420000     4.800000   \n",
      "3324 2024-09-23 00:00:00-04:00   KTTA     4.420000     4.100000     4.700000   \n",
      "3325 2024-09-24 00:00:00-04:00   KTTA     4.110000     3.963000     4.315000   \n",
      "3326 2024-09-25 00:00:00-04:00   KTTA     4.000000     3.845000     4.110000   \n",
      "\n",
      "              Low  Volume  \n",
      "0     1520.000000    3295  \n",
      "1     2004.000000    2683  \n",
      "2     1302.000000    1478  \n",
      "3     1459.199951    1080  \n",
      "4     1504.479980     903  \n",
      "...           ...     ...  \n",
      "3322     4.623000   66400  \n",
      "3323     4.420000    9400  \n",
      "3324     4.100000    7800  \n",
      "3325     3.835000   90600  \n",
      "3326     3.800000   20800  \n",
      "\n",
      "[3327 rows x 7 columns]\n"
     ]
    }
   ],
   "source": [
    "# Create a list to store individual DataFrames\n",
    "stock_data_list = []\n",
    "\n",
    "# Loop through each stock symbol\n",
    "for symbol in symbols:\n",
    "    ticker = yf.Ticker(symbol)\n",
    "  \n",
    "    # Fetch historical data\n",
    "    historical_data = ticker.history(start=start_date, end=end_date)\n",
    "    \n",
    "    # Add the stock symbol to the DataFrame\n",
    "    historical_data['Symbol'] = symbol\n",
    "    \n",
    "    # Append the DataFrame to the list\n",
    "    stock_data_list.append(historical_data)\n",
    "\n",
    "# Combine all DataFrames into a single DataFrame\n",
    "all_stock_data = pd.concat(stock_data_list)\n",
    "\n",
    "# Reset index for better readability\n",
    "all_stock_data.reset_index(inplace=True)\n",
    "\n",
    "# Display the relevant fields\n",
    "print(all_stock_data[['Date', 'Symbol', 'Open', 'Close', 'High', 'Low', 'Volume',]])\n",
    "#print(all_stock_data)"
   ]
  },
  {
   "cell_type": "code",
   "execution_count": 59,
   "id": "17e2ae10",
   "metadata": {},
   "outputs": [],
   "source": [
    "#stock_info = ticker.info\n",
    "#print(stock_info)"
   ]
  },
  {
   "cell_type": "markdown",
   "id": "ae4218c6",
   "metadata": {},
   "source": [
    "## Step 3: Check the Fields\n",
    "\n",
    "Date (timestamp): Automatically provided by the index.\n",
    "\n",
    "Open: The opening price of the stock.\n",
    "\n",
    "High: The highest price of the stock during the trading day.\n",
    "\n",
    "Low: The lowest price of the stock during the trading day.\n",
    "\n",
    "Close: The closing price of the stock.\n",
    "\n",
    "Volume: The trading volume of the stock.\n",
    "\n",
    "Symbol: Added manually to indicate which stock each row corresponds to."
   ]
  },
  {
   "cell_type": "code",
   "execution_count": 15,
   "id": "1056f11c",
   "metadata": {},
   "outputs": [
    {
     "data": {
      "text/html": [
       "<div>\n",
       "<style scoped>\n",
       "    .dataframe tbody tr th:only-of-type {\n",
       "        vertical-align: middle;\n",
       "    }\n",
       "\n",
       "    .dataframe tbody tr th {\n",
       "        vertical-align: top;\n",
       "    }\n",
       "\n",
       "    .dataframe thead th {\n",
       "        text-align: right;\n",
       "    }\n",
       "</style>\n",
       "<table border=\"1\" class=\"dataframe\">\n",
       "  <thead>\n",
       "    <tr style=\"text-align: right;\">\n",
       "      <th></th>\n",
       "      <th>Date</th>\n",
       "      <th>Open</th>\n",
       "      <th>High</th>\n",
       "      <th>Low</th>\n",
       "      <th>Close</th>\n",
       "      <th>Volume</th>\n",
       "      <th>Dividends</th>\n",
       "      <th>Stock Splits</th>\n",
       "      <th>Symbol</th>\n",
       "    </tr>\n",
       "  </thead>\n",
       "  <tbody>\n",
       "    <tr>\n",
       "      <th>3322</th>\n",
       "      <td>2024-09-19 00:00:00-04:00</td>\n",
       "      <td>6.28</td>\n",
       "      <td>6.299</td>\n",
       "      <td>4.623</td>\n",
       "      <td>4.800</td>\n",
       "      <td>66400</td>\n",
       "      <td>0.0</td>\n",
       "      <td>0.0</td>\n",
       "      <td>KTTA</td>\n",
       "    </tr>\n",
       "    <tr>\n",
       "      <th>3323</th>\n",
       "      <td>2024-09-20 00:00:00-04:00</td>\n",
       "      <td>4.68</td>\n",
       "      <td>4.800</td>\n",
       "      <td>4.420</td>\n",
       "      <td>4.420</td>\n",
       "      <td>9400</td>\n",
       "      <td>0.0</td>\n",
       "      <td>0.0</td>\n",
       "      <td>KTTA</td>\n",
       "    </tr>\n",
       "    <tr>\n",
       "      <th>3324</th>\n",
       "      <td>2024-09-23 00:00:00-04:00</td>\n",
       "      <td>4.42</td>\n",
       "      <td>4.700</td>\n",
       "      <td>4.100</td>\n",
       "      <td>4.100</td>\n",
       "      <td>7800</td>\n",
       "      <td>0.0</td>\n",
       "      <td>0.0</td>\n",
       "      <td>KTTA</td>\n",
       "    </tr>\n",
       "    <tr>\n",
       "      <th>3325</th>\n",
       "      <td>2024-09-24 00:00:00-04:00</td>\n",
       "      <td>4.11</td>\n",
       "      <td>4.315</td>\n",
       "      <td>3.835</td>\n",
       "      <td>3.963</td>\n",
       "      <td>90600</td>\n",
       "      <td>0.0</td>\n",
       "      <td>0.0</td>\n",
       "      <td>KTTA</td>\n",
       "    </tr>\n",
       "    <tr>\n",
       "      <th>3326</th>\n",
       "      <td>2024-09-25 00:00:00-04:00</td>\n",
       "      <td>4.00</td>\n",
       "      <td>4.110</td>\n",
       "      <td>3.800</td>\n",
       "      <td>3.845</td>\n",
       "      <td>20800</td>\n",
       "      <td>0.0</td>\n",
       "      <td>0.0</td>\n",
       "      <td>KTTA</td>\n",
       "    </tr>\n",
       "  </tbody>\n",
       "</table>\n",
       "</div>"
      ],
      "text/plain": [
       "                          Date  Open   High    Low  Close  Volume  Dividends  \\\n",
       "3322 2024-09-19 00:00:00-04:00  6.28  6.299  4.623  4.800   66400        0.0   \n",
       "3323 2024-09-20 00:00:00-04:00  4.68  4.800  4.420  4.420    9400        0.0   \n",
       "3324 2024-09-23 00:00:00-04:00  4.42  4.700  4.100  4.100    7800        0.0   \n",
       "3325 2024-09-24 00:00:00-04:00  4.11  4.315  3.835  3.963   90600        0.0   \n",
       "3326 2024-09-25 00:00:00-04:00  4.00  4.110  3.800  3.845   20800        0.0   \n",
       "\n",
       "      Stock Splits Symbol  \n",
       "3322           0.0   KTTA  \n",
       "3323           0.0   KTTA  \n",
       "3324           0.0   KTTA  \n",
       "3325           0.0   KTTA  \n",
       "3326           0.0   KTTA  "
      ]
     },
     "execution_count": 15,
     "metadata": {},
     "output_type": "execute_result"
    }
   ],
   "source": [
    "all_stock_data.tail()"
   ]
  },
  {
   "cell_type": "code",
   "execution_count": 16,
   "id": "86acd936",
   "metadata": {},
   "outputs": [
    {
     "name": "stdout",
     "output_type": "stream",
     "text": [
      "Symbol\n",
      "CNEY      686\n",
      "KTTA      686\n",
      "TNXP      686\n",
      "ONCO      653\n",
      "APLD      616\n",
      "Name: count, dtype: int64\n"
     ]
    }
   ],
   "source": [
    "symbol_count=all_stock_data.value_counts([\"Symbol\"])\n",
    "print(symbol_count)"
   ]
  },
  {
   "cell_type": "code",
   "execution_count": 17,
   "id": "ae799907",
   "metadata": {},
   "outputs": [
    {
     "name": "stdout",
     "output_type": "stream",
     "text": [
      "<class 'pandas.core.frame.DataFrame'>\n",
      "RangeIndex: 3327 entries, 0 to 3326\n",
      "Data columns (total 9 columns):\n",
      " #   Column        Non-Null Count  Dtype                           \n",
      "---  ------        --------------  -----                           \n",
      " 0   Date          3327 non-null   datetime64[ns, America/New_York]\n",
      " 1   Open          3327 non-null   float64                         \n",
      " 2   High          3327 non-null   float64                         \n",
      " 3   Low           3327 non-null   float64                         \n",
      " 4   Close         3327 non-null   float64                         \n",
      " 5   Volume        3327 non-null   int64                           \n",
      " 6   Dividends     3327 non-null   float64                         \n",
      " 7   Stock Splits  3327 non-null   float64                         \n",
      " 8   Symbol        3327 non-null   object                          \n",
      "dtypes: datetime64[ns, America/New_York](1), float64(6), int64(1), object(1)\n",
      "memory usage: 234.1+ KB\n"
     ]
    }
   ],
   "source": [
    "all_stock_data.info()"
   ]
  },
  {
   "cell_type": "code",
   "execution_count": 18,
   "id": "ce59da0f",
   "metadata": {},
   "outputs": [
    {
     "name": "stdout",
     "output_type": "stream",
     "text": [
      "                          Date  Dividends  Stock Splits Symbol\n",
      "651  2024-09-24 00:00:00-04:00        0.0      0.025000   ONCO\n",
      "1166 2024-01-19 00:00:00-05:00        0.0      0.033333   CNEY\n",
      "1432 2022-05-17 00:00:00-04:00        0.0      0.031250   TNXP\n",
      "1678 2023-05-10 00:00:00-04:00        0.0      0.160000   TNXP\n",
      "1950 2024-06-10 00:00:00-04:00        0.0      0.031250   TNXP\n",
      "2025 2022-04-13 00:00:00-04:00        0.0      0.166667   APLD\n",
      "3142 2024-01-02 00:00:00-05:00        0.0      0.050000   KTTA\n"
     ]
    }
   ],
   "source": [
    "# Filter rows where 'Dividends' or 'Stock Splits' is not equal to 0.0\n",
    "non_zero_data = all_stock_data[(all_stock_data['Dividends'] != 0.0) | (all_stock_data['Stock Splits'] != 0.0)]\n",
    "\n",
    "# Display the filtered DataFrame\n",
    "print(non_zero_data[['Date','Dividends', 'Stock Splits','Symbol']])\n"
   ]
  },
  {
   "cell_type": "markdown",
   "id": "e3472cd3",
   "metadata": {},
   "source": [
    "## Check Stock Splits over time for each stock symbol"
   ]
  },
  {
   "cell_type": "code",
   "execution_count": 19,
   "id": "c60ac31c",
   "metadata": {},
   "outputs": [
    {
     "data": {
      "image/png": "[encoded data removed]",
      "text/plain": [
       "<Figure size 1000x500 with 1 Axes>"
      ]
     },
     "metadata": {},
     "output_type": "display_data"
    }
   ],
   "source": [
    "# Plot the Stock Splits over time for each stock symbol\n",
    "plt.figure(figsize=(10, 5))\n",
    "for symbol in non_zero_data['Symbol'].unique():\n",
    "    symbol_data = non_zero_data[non_zero_data['Symbol'] == symbol]\n",
    "    plt.plot(symbol_data['Date'], symbol_data['Stock Splits'], marker='o', label=symbol)\n",
    "\n",
    "# Add titles and labels\n",
    "plt.title('Stock Splits Over Time for Selected Symbols')\n",
    "plt.xlabel('Date')\n",
    "plt.ylabel('Stock Splits')\n",
    "plt.legend()\n",
    "plt.grid(True)\n",
    "\n",
    "# Display the plot\n",
    "plt.show()"
   ]
  },
  {
   "cell_type": "code",
   "execution_count": 20,
   "id": "753baf90",
   "metadata": {},
   "outputs": [
    {
     "data": {
      "text/html": [
       "<div>\n",
       "<style scoped>\n",
       "    .dataframe tbody tr th:only-of-type {\n",
       "        vertical-align: middle;\n",
       "    }\n",
       "\n",
       "    .dataframe tbody tr th {\n",
       "        vertical-align: top;\n",
       "    }\n",
       "\n",
       "    .dataframe thead th {\n",
       "        text-align: right;\n",
       "    }\n",
       "</style>\n",
       "<table border=\"1\" class=\"dataframe\">\n",
       "  <thead>\n",
       "    <tr style=\"text-align: right;\">\n",
       "      <th></th>\n",
       "      <th>Open</th>\n",
       "      <th>High</th>\n",
       "      <th>Low</th>\n",
       "      <th>Close</th>\n",
       "      <th>Volume</th>\n",
       "      <th>Dividends</th>\n",
       "      <th>Stock Splits</th>\n",
       "    </tr>\n",
       "  </thead>\n",
       "  <tbody>\n",
       "    <tr>\n",
       "      <th>count</th>\n",
       "      <td>3327.000000</td>\n",
       "      <td>3327.000000</td>\n",
       "      <td>3327.000000</td>\n",
       "      <td>3327.000000</td>\n",
       "      <td>3.327000e+03</td>\n",
       "      <td>3327.0</td>\n",
       "      <td>3327.000000</td>\n",
       "    </tr>\n",
       "    <tr>\n",
       "      <th>mean</th>\n",
       "      <td>94.591246</td>\n",
       "      <td>100.003597</td>\n",
       "      <td>87.949593</td>\n",
       "      <td>93.535510</td>\n",
       "      <td>1.333773e+06</td>\n",
       "      <td>0.0</td>\n",
       "      <td>0.000150</td>\n",
       "    </tr>\n",
       "    <tr>\n",
       "      <th>std</th>\n",
       "      <td>320.529114</td>\n",
       "      <td>341.143025</td>\n",
       "      <td>295.973710</td>\n",
       "      <td>318.499669</td>\n",
       "      <td>1.051370e+07</td>\n",
       "      <td>0.0</td>\n",
       "      <td>0.004229</td>\n",
       "    </tr>\n",
       "    <tr>\n",
       "      <th>min</th>\n",
       "      <td>0.130000</td>\n",
       "      <td>0.130000</td>\n",
       "      <td>0.130000</td>\n",
       "      <td>0.130000</td>\n",
       "      <td>0.000000e+00</td>\n",
       "      <td>0.0</td>\n",
       "      <td>0.000000</td>\n",
       "    </tr>\n",
       "    <tr>\n",
       "      <th>25%</th>\n",
       "      <td>4.945000</td>\n",
       "      <td>5.124000</td>\n",
       "      <td>4.705000</td>\n",
       "      <td>4.880000</td>\n",
       "      <td>3.297500e+03</td>\n",
       "      <td>0.0</td>\n",
       "      <td>0.000000</td>\n",
       "    </tr>\n",
       "    <tr>\n",
       "      <th>50%</th>\n",
       "      <td>9.600000</td>\n",
       "      <td>9.960000</td>\n",
       "      <td>9.000000</td>\n",
       "      <td>9.500000</td>\n",
       "      <td>1.365500e+04</td>\n",
       "      <td>0.0</td>\n",
       "      <td>0.000000</td>\n",
       "    </tr>\n",
       "    <tr>\n",
       "      <th>75%</th>\n",
       "      <td>47.200001</td>\n",
       "      <td>49.050001</td>\n",
       "      <td>45.299999</td>\n",
       "      <td>46.799999</td>\n",
       "      <td>1.290830e+05</td>\n",
       "      <td>0.0</td>\n",
       "      <td>0.000000</td>\n",
       "    </tr>\n",
       "    <tr>\n",
       "      <th>max</th>\n",
       "      <td>2700.000000</td>\n",
       "      <td>3636.000000</td>\n",
       "      <td>2500.800049</td>\n",
       "      <td>2716.000000</td>\n",
       "      <td>3.474761e+08</td>\n",
       "      <td>0.0</td>\n",
       "      <td>0.166667</td>\n",
       "    </tr>\n",
       "  </tbody>\n",
       "</table>\n",
       "</div>"
      ],
      "text/plain": [
       "              Open         High          Low        Close        Volume  \\\n",
       "count  3327.000000  3327.000000  3327.000000  3327.000000  3.327000e+03   \n",
       "mean     94.591246   100.003597    87.949593    93.535510  1.333773e+06   \n",
       "std     320.529114   341.143025   295.973710   318.499669  1.051370e+07   \n",
       "min       0.130000     0.130000     0.130000     0.130000  0.000000e+00   \n",
       "25%       4.945000     5.124000     4.705000     4.880000  3.297500e+03   \n",
       "50%       9.600000     9.960000     9.000000     9.500000  1.365500e+04   \n",
       "75%      47.200001    49.050001    45.299999    46.799999  1.290830e+05   \n",
       "max    2700.000000  3636.000000  2500.800049  2716.000000  3.474761e+08   \n",
       "\n",
       "       Dividends  Stock Splits  \n",
       "count     3327.0   3327.000000  \n",
       "mean         0.0      0.000150  \n",
       "std          0.0      0.004229  \n",
       "min          0.0      0.000000  \n",
       "25%          0.0      0.000000  \n",
       "50%          0.0      0.000000  \n",
       "75%          0.0      0.000000  \n",
       "max          0.0      0.166667  "
      ]
     },
     "execution_count": 20,
     "metadata": {},
     "output_type": "execute_result"
    }
   ],
   "source": [
    "all_stock_data.describe()"
   ]
  },
  {
   "cell_type": "markdown",
   "id": "c2cda287",
   "metadata": {},
   "source": [
    "Most stocks in this dataset have lower prices (median around $9.60) and low trading volume, but there are some stocks with very high prices and significant trading volumes.\n",
    "Stock splits and dividends are rare events, as indicated by the low average stock split value and all dividends being zero."
   ]
  },
  {
   "cell_type": "markdown",
   "id": "e9696c62",
   "metadata": {},
   "source": [
    "Overall Summary:\n",
    "The dataset mainly consists of low-to-moderate priced stocks, with a few outliers that are significantly more valuable.\n",
    "Stock splits are uncommon, and dividends were not issued for these stocks.\n",
    "Volume varies widely, with some stocks experiencing high trading activity at certain points."
   ]
  },
  {
   "cell_type": "markdown",
   "id": "0a01be10",
   "metadata": {},
   "source": [
    "## Step 4: Save the Data"
   ]
  },
  {
   "cell_type": "code",
   "execution_count": 21,
   "id": "2145e9f8",
   "metadata": {},
   "outputs": [],
   "source": [
    "all_stock_data.to_csv('stock_data.csv', index=False)"
   ]
  }
 ],
 "metadata": {
  "kernelspec": {
   "display_name": "Python 3 (ipykernel)",
   "language": "python",
   "name": "python3"
  },
  "language_info": {
   "codemirror_mode": {
    "name": "ipython",
    "version": 3
   },
   "file_extension": ".py",
   "mimetype": "text/x-python",
   "name": "python",
   "nbconvert_exporter": "python",
   "pygments_lexer": "ipython3",
   "version": "3.11.4"
  }
 },
 "nbformat": 4,
 "nbformat_minor": 5
}
